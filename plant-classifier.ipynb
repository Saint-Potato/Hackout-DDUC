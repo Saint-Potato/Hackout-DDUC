{
 "cells": [
  {
   "cell_type": "code",
   "execution_count": 4,
   "metadata": {
    "execution": {
     "iopub.execute_input": "2025-02-25T02:42:18.187665Z",
     "iopub.status.busy": "2025-02-25T02:42:18.187278Z",
     "iopub.status.idle": "2025-02-25T02:42:18.524812Z",
     "shell.execute_reply": "2025-02-25T02:42:18.524114Z",
     "shell.execute_reply.started": "2025-02-25T02:42:18.187637Z"
    },
    "id": "eu1qr1q9-yyW"
   },
   "outputs": [],
   "source": [
    "import numpy as np\n",
    "import pandas as pd\n",
    "from google.colab import userdata\n",
    "import os"
   ]
  },
  {
   "cell_type": "code",
   "execution_count": 5,
   "metadata": {
    "execution": {
     "iopub.execute_input": "2025-02-25T02:42:18.526256Z",
     "iopub.status.busy": "2025-02-25T02:42:18.525897Z",
     "iopub.status.idle": "2025-02-25T02:42:30.544971Z",
     "shell.execute_reply": "2025-02-25T02:42:30.544207Z",
     "shell.execute_reply.started": "2025-02-25T02:42:18.526224Z"
    },
    "id": "1LlntvlX_4o3"
   },
   "outputs": [],
   "source": [
    "import tensorflow as tf\n",
    "from tensorflow.keras.applications import MobileNetV2\n",
    "from tensorflow.keras.layers import Dense, GlobalAveragePooling2D\n",
    "from tensorflow.keras.models import Model\n",
    "from tensorflow.keras.preprocessing.image import ImageDataGenerator\n",
    "from tensorflow.keras.optimizers import SGD"
   ]
  },
  {
   "cell_type": "code",
   "execution_count": 6,
   "metadata": {
    "execution": {
     "iopub.execute_input": "2025-02-25T02:42:30.546684Z",
     "iopub.status.busy": "2025-02-25T02:42:30.546152Z",
     "iopub.status.idle": "2025-02-25T02:42:30.549906Z",
     "shell.execute_reply": "2025-02-25T02:42:30.549158Z",
     "shell.execute_reply.started": "2025-02-25T02:42:30.546657Z"
    },
    "id": "fgAtuejlDL8w"
   },
   "outputs": [],
   "source": [
    "IMG_SIZE = (224, 224)\n",
    "BATCH_SIZE = 32"
   ]
  },
  {
   "cell_type": "code",
   "execution_count": null,
   "metadata": {
    "execution": {
     "iopub.execute_input": "2025-02-25T02:42:30.551684Z",
     "iopub.status.busy": "2025-02-25T02:42:30.551370Z",
     "iopub.status.idle": "2025-02-25T02:42:30.581613Z",
     "shell.execute_reply": "2025-02-25T02:42:30.580827Z",
     "shell.execute_reply.started": "2025-02-25T02:42:30.551654Z"
    },
    "id": "GDqHUxZgDPZF"
   },
   "outputs": [],
   "source": [
    "\n",
    "datagen = ImageDataGenerator(\n",
    "    rescale=1.0/255,\n",
    "    rotation_range=30,\n",
    "    width_shift_range=0.2,\n",
    "    height_shift_range=0.2,\n",
    "    shear_range=0.2,\n",
    "    zoom_range=0.2,\n",
    "    horizontal_flip=True,\n",
    "    validation_split=0.2  #  validation\n",
    ")"
   ]
  },
  {
   "cell_type": "code",
   "execution_count": null,
   "metadata": {
    "colab": {
     "base_uri": "https://localhost:8080/"
    },
    "execution": {
     "iopub.execute_input": "2025-02-25T02:42:30.582638Z",
     "iopub.status.busy": "2025-02-25T02:42:30.582429Z",
     "iopub.status.idle": "2025-02-25T02:42:51.016204Z",
     "shell.execute_reply": "2025-02-25T02:42:51.015535Z",
     "shell.execute_reply.started": "2025-02-25T02:42:30.582619Z"
    },
    "id": "7c9BjNeRDPrA",
    "outputId": "fa86b3e4-45fd-42a5-a34c-d8d2fda4df1d"
   },
   "outputs": [
    {
     "name": "stdout",
     "output_type": "stream",
     "text": [
      "Found 5556 images belonging to 80 classes.\n",
      "Found 1344 images belonging to 80 classes.\n"
     ]
    }
   ],
   "source": [
    "# Load datasets\n",
    "train_data = datagen.flow_from_directory(\n",
    "    \"/kaggle/input/indian-medicinal-leaves-dataset/Indian Medicinal Leaves Image Datasets/Medicinal Leaf dataset\",\n",
    "    target_size=IMG_SIZE,\n",
    "    batch_size=BATCH_SIZE,\n",
    "    class_mode=\"categorical\",\n",
    "    subset=\"training\"\n",
    ")\n",
    "\n",
    "val_data = datagen.flow_from_directory(\n",
    "    \"/kaggle/input/indian-medicinal-leaves-dataset/Indian Medicinal Leaves Image Datasets/Medicinal Leaf dataset\",\n",
    "    target_size=IMG_SIZE,\n",
    "    batch_size=BATCH_SIZE,\n",
    "    class_mode=\"categorical\",\n",
    "    subset=\"validation\"\n",
    ")"
   ]
  },
  {
   "cell_type": "code",
   "execution_count": null,
   "metadata": {
    "colab": {
     "base_uri": "https://localhost:8080/"
    },
    "execution": {
     "iopub.execute_input": "2025-02-25T02:42:51.017493Z",
     "iopub.status.busy": "2025-02-25T02:42:51.016999Z",
     "iopub.status.idle": "2025-02-25T02:42:54.276186Z",
     "shell.execute_reply": "2025-02-25T02:42:54.275504Z",
     "shell.execute_reply.started": "2025-02-25T02:42:51.017454Z"
    },
    "id": "ve7LqaU3DwqI",
    "outputId": "f75b7738-f7b6-4ec4-a6f9-3684c5e17d07"
   },
   "outputs": [
    {
     "name": "stdout",
     "output_type": "stream",
     "text": [
      "Downloading data from https://storage.googleapis.com/tensorflow/keras-applications/mobilenet_v2/mobilenet_v2_weights_tf_dim_ordering_tf_kernels_1.0_224_no_top.h5\n",
      "\u001b[1m9406464/9406464\u001b[0m \u001b[32m━━━━━━━━━━━━━━━━━━━━\u001b[0m\u001b[37m\u001b[0m \u001b[1m0s\u001b[0m 0us/step\n"
     ]
    }
   ],
   "source": [
    "#MobileNetV2\n",
    "base_model = MobileNetV2(input_shape=(224, 224, 3), include_top=False, weights=\"imagenet\")\n",
    "base_model.trainable = False  # Freeze convolutional layers"
   ]
  },
  {
   "cell_type": "code",
   "execution_count": null,
   "metadata": {
    "execution": {
     "iopub.execute_input": "2025-02-25T02:42:54.277158Z",
     "iopub.status.busy": "2025-02-25T02:42:54.276923Z",
     "iopub.status.idle": "2025-02-25T02:42:54.314253Z",
     "shell.execute_reply": "2025-02-25T02:42:54.313571Z",
     "shell.execute_reply.started": "2025-02-25T02:42:54.277137Z"
    },
    "id": "n0SVRDZNDyOx"
   },
   "outputs": [],
   "source": [
    "# custom fully connected layers\n",
    "x = base_model.output\n",
    "x = GlobalAveragePooling2D()(x)  # Global Average Pooling\n",
    "x = Dense(736, activation=\"relu\")(x)\n",
    "x = Dense(448, activation=\"relu\")(x)\n",
    "x = Dense(928, activation=\"relu\")(x)\n",
    "output_layer = Dense(len(train_data.class_indices), activation=\"softmax\")(x)"
   ]
  },
  {
   "cell_type": "code",
   "execution_count": null,
   "metadata": {
    "execution": {
     "iopub.execute_input": "2025-02-25T02:42:54.316684Z",
     "iopub.status.busy": "2025-02-25T02:42:54.316474Z",
     "iopub.status.idle": "2025-02-25T02:42:54.327669Z",
     "shell.execute_reply": "2025-02-25T02:42:54.326869Z",
     "shell.execute_reply.started": "2025-02-25T02:42:54.316665Z"
    },
    "id": "F9N2_qHSD1EF"
   },
   "outputs": [],
   "source": [
    "#model\n",
    "model = Model(inputs=base_model.input, outputs=output_layer)"
   ]
  },
  {
   "cell_type": "code",
   "execution_count": null,
   "metadata": {
    "execution": {
     "iopub.execute_input": "2025-02-25T02:42:54.329300Z",
     "iopub.status.busy": "2025-02-25T02:42:54.329029Z",
     "iopub.status.idle": "2025-02-25T02:42:54.352137Z",
     "shell.execute_reply": "2025-02-25T02:42:54.351243Z",
     "shell.execute_reply.started": "2025-02-25T02:42:54.329278Z"
    },
    "id": "xJNlSasuD2ha"
   },
   "outputs": [],
   "source": [
    "# SGD optimizer\n",
    "model.compile(optimizer=SGD(learning_rate=0.004, momentum=0.9),\n",
    "              loss=\"categorical_crossentropy\",\n",
    "              metrics=[\"accuracy\"])"
   ]
  },
  {
   "cell_type": "code",
   "execution_count": null,
   "metadata": {
    "colab": {
     "base_uri": "https://localhost:8080/"
    },
    "execution": {
     "iopub.execute_input": "2025-02-25T02:42:54.353019Z",
     "iopub.status.busy": "2025-02-25T02:42:54.352830Z",
     "iopub.status.idle": "2025-02-25T02:42:54.356127Z",
     "shell.execute_reply": "2025-02-25T02:42:54.355250Z",
     "shell.execute_reply.started": "2025-02-25T02:42:54.353002Z"
    },
    "id": "TZIMzCGID5IV",
    "outputId": "dda1c341-42e1-4781-ab2d-5aae346d1f51"
   },
   "outputs": [],
   "source": [
    "# Train for 50 epochs\n",
    "#history = model.fit(train_data, validation_data=val_data, epochs=20, verbose = 1)"
   ]
  },
  {
   "cell_type": "code",
   "execution_count": 14,
   "metadata": {
    "colab": {
     "base_uri": "https://localhost:8080/"
    },
    "execution": {
     "iopub.execute_input": "2025-02-25T02:42:54.357121Z",
     "iopub.status.busy": "2025-02-25T02:42:54.356924Z",
     "iopub.status.idle": "2025-02-25T02:42:54.373572Z",
     "shell.execute_reply": "2025-02-25T02:42:54.372769Z",
     "shell.execute_reply.started": "2025-02-25T02:42:54.357102Z"
    },
    "id": "c_s6BaPAD7UH",
    "outputId": "2489dfe8-92a5-4526-b38a-d81fce387368"
   },
   "outputs": [],
   "source": [
    "# Save the model\n",
    "#model.save(\"fine_tuned_mobilenetv2.h5\")"
   ]
  },
  {
   "cell_type": "code",
   "execution_count": null,
   "metadata": {
    "execution": {
     "iopub.execute_input": "2025-02-25T02:42:54.374669Z",
     "iopub.status.busy": "2025-02-25T02:42:54.374391Z",
     "iopub.status.idle": "2025-02-25T02:42:54.392212Z",
     "shell.execute_reply": "2025-02-25T02:42:54.391497Z",
     "shell.execute_reply.started": "2025-02-25T02:42:54.374640Z"
    },
    "id": "CX4cGUj9kpg-"
   },
   "outputs": [],
   "source": [
    "base_model.trainable = True  \n",
    "for layer in base_model.layers[:100]:  \n",
    "    layer.trainable = False"
   ]
  },
  {
   "cell_type": "code",
   "execution_count": 16,
   "metadata": {
    "execution": {
     "iopub.execute_input": "2025-02-25T02:42:54.393097Z",
     "iopub.status.busy": "2025-02-25T02:42:54.392908Z",
     "iopub.status.idle": "2025-02-25T02:42:54.407257Z",
     "shell.execute_reply": "2025-02-25T02:42:54.406548Z",
     "shell.execute_reply.started": "2025-02-25T02:42:54.393080Z"
    },
    "id": "Iaxfnm5mlGZz"
   },
   "outputs": [],
   "source": [
    "from tensorflow.keras.layers import Dropout\n"
   ]
  },
  {
   "cell_type": "code",
   "execution_count": 17,
   "metadata": {
    "execution": {
     "iopub.execute_input": "2025-02-25T02:42:54.408311Z",
     "iopub.status.busy": "2025-02-25T02:42:54.408043Z",
     "iopub.status.idle": "2025-02-25T02:42:54.452750Z",
     "shell.execute_reply": "2025-02-25T02:42:54.452091Z",
     "shell.execute_reply.started": "2025-02-25T02:42:54.408290Z"
    },
    "id": "obyAiH3NkqAu"
   },
   "outputs": [],
   "source": [
    "x = base_model.output\n",
    "x = GlobalAveragePooling2D()(x)\n",
    "x = Dense(512, activation=\"relu\")(x)\n",
    "x = Dropout(0.5)(x)  # Add dropout to prevent overfitting\n",
    "x = Dense(256, activation=\"relu\")(x)\n",
    "x = Dropout(0.3)(x)\n",
    "output_layer = Dense(len(train_data.class_indices), activation=\"softmax\")(x)"
   ]
  },
  {
   "cell_type": "code",
   "execution_count": 18,
   "metadata": {
    "execution": {
     "iopub.execute_input": "2025-02-25T02:42:54.453749Z",
     "iopub.status.busy": "2025-02-25T02:42:54.453545Z",
     "iopub.status.idle": "2025-02-25T02:42:54.462047Z",
     "shell.execute_reply": "2025-02-25T02:42:54.461428Z",
     "shell.execute_reply.started": "2025-02-25T02:42:54.453731Z"
    },
    "id": "kJzuxM6Fk03p"
   },
   "outputs": [],
   "source": [
    "from tensorflow.keras.optimizers import Adam\n",
    "\n",
    "model.compile(optimizer=Adam(learning_rate=0.0005),\n",
    "              loss=\"categorical_crossentropy\",\n",
    "              metrics=[\"accuracy\"])\n"
   ]
  },
  {
   "cell_type": "code",
   "execution_count": 19,
   "metadata": {
    "execution": {
     "iopub.execute_input": "2025-02-25T02:42:54.463021Z",
     "iopub.status.busy": "2025-02-25T02:42:54.462831Z",
     "iopub.status.idle": "2025-02-25T02:42:54.475914Z",
     "shell.execute_reply": "2025-02-25T02:42:54.475185Z",
     "shell.execute_reply.started": "2025-02-25T02:42:54.463004Z"
    },
    "id": "0OBQpHyjlLTy"
   },
   "outputs": [],
   "source": [
    "from tensorflow.keras.callbacks import ReduceLROnPlateau\n",
    "\n",
    "lr_scheduler = ReduceLROnPlateau(monitor='val_loss', factor=0.5, patience=3, verbose=1)"
   ]
  },
  {
   "cell_type": "code",
   "execution_count": 20,
   "metadata": {
    "colab": {
     "base_uri": "https://localhost:8080/"
    },
    "execution": {
     "iopub.execute_input": "2025-02-25T02:42:54.476890Z",
     "iopub.status.busy": "2025-02-25T02:42:54.476639Z",
     "iopub.status.idle": "2025-02-25T02:42:54.489006Z",
     "shell.execute_reply": "2025-02-25T02:42:54.488227Z",
     "shell.execute_reply.started": "2025-02-25T02:42:54.476858Z"
    },
    "id": "fthxtFBulUId",
    "outputId": "aea9e86d-b49e-40d7-fb0f-11ed545767ad"
   },
   "outputs": [],
   "source": [
    "#history = model.fit(train_data, validation_data=val_data, epochs=10,\n",
    " #                   callbacks=[lr_scheduler], verbose=1)\n"
   ]
  },
  {
   "cell_type": "code",
   "execution_count": 21,
   "metadata": {
    "colab": {
     "base_uri": "https://localhost:8080/"
    },
    "execution": {
     "iopub.execute_input": "2025-02-25T02:42:54.489926Z",
     "iopub.status.busy": "2025-02-25T02:42:54.489666Z",
     "iopub.status.idle": "2025-02-25T02:42:54.503961Z",
     "shell.execute_reply": "2025-02-25T02:42:54.503173Z",
     "shell.execute_reply.started": "2025-02-25T02:42:54.489869Z"
    },
    "id": "mUyEVkPJloRc",
    "outputId": "5761f97c-d114-4b1d-e714-fe97906fc123"
   },
   "outputs": [],
   "source": [
    "#model.save(\"colab_finetuned_2.h5\")"
   ]
  },
  {
   "cell_type": "code",
   "execution_count": 22,
   "metadata": {
    "execution": {
     "iopub.execute_input": "2025-02-25T02:42:54.504835Z",
     "iopub.status.busy": "2025-02-25T02:42:54.504623Z",
     "iopub.status.idle": "2025-02-25T02:42:54.518266Z",
     "shell.execute_reply": "2025-02-25T02:42:54.517435Z",
     "shell.execute_reply.started": "2025-02-25T02:42:54.504815Z"
    },
    "id": "zy6EETuX2bFo"
   },
   "outputs": [],
   "source": [
    "from tensorflow.keras.callbacks import EarlyStopping\n",
    "early_stopping = EarlyStopping(monitor='val_loss', patience=5, restore_best_weights=True)"
   ]
  },
  {
   "cell_type": "code",
   "execution_count": null,
   "metadata": {
    "execution": {
     "iopub.execute_input": "2025-02-25T02:42:54.519372Z",
     "iopub.status.busy": "2025-02-25T02:42:54.519102Z",
     "iopub.status.idle": "2025-02-25T02:42:54.539915Z",
     "shell.execute_reply": "2025-02-25T02:42:54.539165Z",
     "shell.execute_reply.started": "2025-02-25T02:42:54.519331Z"
    },
    "id": "ZYUL8Y0k4L88"
   },
   "outputs": [],
   "source": [
    "from tensorflow.keras.optimizers import Adam\n",
    "# Reinitialize the optimizer\n",
    "optimizer = Adam(learning_rate=0.0005)\n",
    "\n",
    "\n",
    "model.compile(optimizer=optimizer,\n",
    "              loss=\"categorical_crossentropy\",\n",
    "              metrics=[\"accuracy\"])"
   ]
  },
  {
   "cell_type": "code",
   "execution_count": null,
   "metadata": {
    "colab": {
     "base_uri": "https://localhost:8080/"
    },
    "execution": {
     "iopub.execute_input": "2025-02-25T03:46:22.936079Z",
     "iopub.status.busy": "2025-02-25T03:46:22.935773Z",
     "iopub.status.idle": "2025-02-25T06:01:42.547801Z",
     "shell.execute_reply": "2025-02-25T06:01:42.546919Z",
     "shell.execute_reply.started": "2025-02-25T03:46:22.936053Z"
    },
    "id": "ZPu_AaUw4XKl",
    "outputId": "17b469ff-28ec-492d-c20c-857d6ab20f8e"
   },
   "outputs": [
    {
     "name": "stdout",
     "output_type": "stream",
     "text": [
      "Epoch 1/30\n",
      "\u001b[1m174/174\u001b[0m \u001b[32m━━━━━━━━━━━━━━━━━━━━\u001b[0m\u001b[37m\u001b[0m \u001b[1m271s\u001b[0m 2s/step - accuracy: 0.9177 - loss: 0.2748 - val_accuracy: 0.3430 - val_loss: 5.5249 - learning_rate: 2.5000e-04\n",
      "Epoch 2/30\n",
      "\u001b[1m174/174\u001b[0m \u001b[32m━━━━━━━━━━━━━━━━━━━━\u001b[0m\u001b[37m\u001b[0m \u001b[1m271s\u001b[0m 2s/step - accuracy: 0.9352 - loss: 0.2134 - val_accuracy: 0.3616 - val_loss: 4.9927 - learning_rate: 2.5000e-04\n",
      "Epoch 3/30\n",
      "\u001b[1m174/174\u001b[0m \u001b[32m━━━━━━━━━━━━━━━━━━━━\u001b[0m\u001b[37m\u001b[0m \u001b[1m271s\u001b[0m 1s/step - accuracy: 0.9463 - loss: 0.1726 - val_accuracy: 0.4129 - val_loss: 4.5070 - learning_rate: 2.5000e-04\n",
      "Epoch 4/30\n",
      "\u001b[1m174/174\u001b[0m \u001b[32m━━━━━━━━━━━━━━━━━━━━\u001b[0m\u001b[37m\u001b[0m \u001b[1m272s\u001b[0m 2s/step - accuracy: 0.9554 - loss: 0.1388 - val_accuracy: 0.4204 - val_loss: 4.0898 - learning_rate: 2.5000e-04\n",
      "Epoch 5/30\n",
      "\u001b[1m174/174\u001b[0m \u001b[32m━━━━━━━━━━━━━━━━━━━━\u001b[0m\u001b[37m\u001b[0m \u001b[1m269s\u001b[0m 1s/step - accuracy: 0.9544 - loss: 0.1381 - val_accuracy: 0.4315 - val_loss: 4.1477 - learning_rate: 2.5000e-04\n",
      "Epoch 6/30\n",
      "\u001b[1m174/174\u001b[0m \u001b[32m━━━━━━━━━━━━━━━━━━━━\u001b[0m\u001b[37m\u001b[0m \u001b[1m269s\u001b[0m 1s/step - accuracy: 0.9610 - loss: 0.1281 - val_accuracy: 0.5402 - val_loss: 3.2586 - learning_rate: 2.5000e-04\n",
      "Epoch 7/30\n",
      "\u001b[1m174/174\u001b[0m \u001b[32m━━━━━━━━━━━━━━━━━━━━\u001b[0m\u001b[37m\u001b[0m \u001b[1m270s\u001b[0m 2s/step - accuracy: 0.9597 - loss: 0.1388 - val_accuracy: 0.4926 - val_loss: 4.0946 - learning_rate: 2.5000e-04\n",
      "Epoch 8/30\n",
      "\u001b[1m174/174\u001b[0m \u001b[32m━━━━━━━━━━━━━━━━━━━━\u001b[0m\u001b[37m\u001b[0m \u001b[1m270s\u001b[0m 1s/step - accuracy: 0.9731 - loss: 0.0868 - val_accuracy: 0.4762 - val_loss: 4.1258 - learning_rate: 2.5000e-04\n",
      "Epoch 9/30\n",
      "\u001b[1m174/174\u001b[0m \u001b[32m━━━━━━━━━━━━━━━━━━━━\u001b[0m\u001b[37m\u001b[0m \u001b[1m270s\u001b[0m 1s/step - accuracy: 0.9612 - loss: 0.1310 - val_accuracy: 0.5632 - val_loss: 2.7503 - learning_rate: 2.5000e-04\n",
      "Epoch 10/30\n",
      "\u001b[1m174/174\u001b[0m \u001b[32m━━━━━━━━━━━━━━━━━━━━\u001b[0m\u001b[37m\u001b[0m \u001b[1m269s\u001b[0m 1s/step - accuracy: 0.9690 - loss: 0.1010 - val_accuracy: 0.5446 - val_loss: 3.1294 - learning_rate: 2.5000e-04\n",
      "Epoch 11/30\n",
      "\u001b[1m174/174\u001b[0m \u001b[32m━━━━━━━━━━━━━━━━━━━━\u001b[0m\u001b[37m\u001b[0m \u001b[1m270s\u001b[0m 2s/step - accuracy: 0.9745 - loss: 0.0845 - val_accuracy: 0.6094 - val_loss: 2.6791 - learning_rate: 2.5000e-04\n",
      "Epoch 12/30\n",
      "\u001b[1m174/174\u001b[0m \u001b[32m━━━━━━━━━━━━━━━━━━━━\u001b[0m\u001b[37m\u001b[0m \u001b[1m269s\u001b[0m 1s/step - accuracy: 0.9679 - loss: 0.1078 - val_accuracy: 0.6362 - val_loss: 2.4220 - learning_rate: 2.5000e-04\n",
      "Epoch 13/30\n",
      "\u001b[1m174/174\u001b[0m \u001b[32m━━━━━━━━━━━━━━━━━━━━\u001b[0m\u001b[37m\u001b[0m \u001b[1m269s\u001b[0m 2s/step - accuracy: 0.9772 - loss: 0.0867 - val_accuracy: 0.6183 - val_loss: 2.5339 - learning_rate: 2.5000e-04\n",
      "Epoch 14/30\n",
      "\u001b[1m174/174\u001b[0m \u001b[32m━━━━━━━━━━━━━━━━━━━━\u001b[0m\u001b[37m\u001b[0m \u001b[1m271s\u001b[0m 2s/step - accuracy: 0.9677 - loss: 0.1044 - val_accuracy: 0.6012 - val_loss: 2.7304 - learning_rate: 2.5000e-04\n",
      "Epoch 15/30\n",
      "\u001b[1m173/174\u001b[0m \u001b[32m━━━━━━━━━━━━━━━━━━━\u001b[0m\u001b[37m━\u001b[0m \u001b[1m1s\u001b[0m 1s/step - accuracy: 0.9794 - loss: 0.0672\n",
      "Epoch 15: ReduceLROnPlateau reducing learning rate to 0.0001250000059371814.\n",
      "\u001b[1m174/174\u001b[0m \u001b[32m━━━━━━━━━━━━━━━━━━━━\u001b[0m\u001b[37m\u001b[0m \u001b[1m269s\u001b[0m 1s/step - accuracy: 0.9793 - loss: 0.0675 - val_accuracy: 0.5640 - val_loss: 2.7209 - learning_rate: 2.5000e-04\n",
      "Epoch 16/30\n",
      "\u001b[1m174/174\u001b[0m \u001b[32m━━━━━━━━━━━━━━━━━━━━\u001b[0m\u001b[37m\u001b[0m \u001b[1m271s\u001b[0m 2s/step - accuracy: 0.9785 - loss: 0.0601 - val_accuracy: 0.6868 - val_loss: 1.9673 - learning_rate: 1.2500e-04\n",
      "Epoch 17/30\n",
      "\u001b[1m174/174\u001b[0m \u001b[32m━━━━━━━━━━━━━━━━━━━━\u001b[0m\u001b[37m\u001b[0m \u001b[1m270s\u001b[0m 1s/step - accuracy: 0.9914 - loss: 0.0299 - val_accuracy: 0.6823 - val_loss: 2.0214 - learning_rate: 1.2500e-04\n",
      "Epoch 18/30\n",
      "\u001b[1m174/174\u001b[0m \u001b[32m━━━━━━━━━━━━━━━━━━━━\u001b[0m\u001b[37m\u001b[0m \u001b[1m273s\u001b[0m 2s/step - accuracy: 0.9937 - loss: 0.0220 - val_accuracy: 0.6882 - val_loss: 2.1065 - learning_rate: 1.2500e-04\n",
      "Epoch 19/30\n",
      "\u001b[1m174/174\u001b[0m \u001b[32m━━━━━━━━━━━━━━━━━━━━\u001b[0m\u001b[37m\u001b[0m \u001b[1m273s\u001b[0m 2s/step - accuracy: 0.9917 - loss: 0.0281 - val_accuracy: 0.7083 - val_loss: 1.8942 - learning_rate: 1.2500e-04\n",
      "Epoch 20/30\n",
      "\u001b[1m174/174\u001b[0m \u001b[32m━━━━━━━━━━━━━━━━━━━━\u001b[0m\u001b[37m\u001b[0m \u001b[1m269s\u001b[0m 1s/step - accuracy: 0.9915 - loss: 0.0268 - val_accuracy: 0.7180 - val_loss: 1.7810 - learning_rate: 1.2500e-04\n",
      "Epoch 21/30\n",
      "\u001b[1m174/174\u001b[0m \u001b[32m━━━━━━━━━━━━━━━━━━━━\u001b[0m\u001b[37m\u001b[0m \u001b[1m272s\u001b[0m 2s/step - accuracy: 0.9945 - loss: 0.0153 - val_accuracy: 0.7076 - val_loss: 1.8432 - learning_rate: 1.2500e-04\n",
      "Epoch 22/30\n",
      "\u001b[1m174/174\u001b[0m \u001b[32m━━━━━━━━━━━━━━━━━━━━\u001b[0m\u001b[37m\u001b[0m \u001b[1m270s\u001b[0m 2s/step - accuracy: 0.9938 - loss: 0.0219 - val_accuracy: 0.7232 - val_loss: 1.8509 - learning_rate: 1.2500e-04\n",
      "Epoch 23/30\n",
      "\u001b[1m173/174\u001b[0m \u001b[32m━━━━━━━━━━━━━━━━━━━\u001b[0m\u001b[37m━\u001b[0m \u001b[1m1s\u001b[0m 1s/step - accuracy: 0.9907 - loss: 0.0264\n",
      "Epoch 23: ReduceLROnPlateau reducing learning rate to 6.25000029685907e-05.\n",
      "\u001b[1m174/174\u001b[0m \u001b[32m━━━━━━━━━━━━━━━━━━━━\u001b[0m\u001b[37m\u001b[0m \u001b[1m268s\u001b[0m 1s/step - accuracy: 0.9907 - loss: 0.0265 - val_accuracy: 0.7225 - val_loss: 1.8263 - learning_rate: 1.2500e-04\n",
      "Epoch 24/30\n",
      "\u001b[1m174/174\u001b[0m \u001b[32m━━━━━━━━━━━━━━━━━━━━\u001b[0m\u001b[37m\u001b[0m \u001b[1m273s\u001b[0m 2s/step - accuracy: 0.9934 - loss: 0.0208 - val_accuracy: 0.7351 - val_loss: 1.7289 - learning_rate: 6.2500e-05\n",
      "Epoch 25/30\n",
      "\u001b[1m174/174\u001b[0m \u001b[32m━━━━━━━━━━━━━━━━━━━━\u001b[0m\u001b[37m\u001b[0m \u001b[1m275s\u001b[0m 2s/step - accuracy: 0.9970 - loss: 0.0124 - val_accuracy: 0.7344 - val_loss: 1.6834 - learning_rate: 6.2500e-05\n",
      "Epoch 26/30\n",
      "\u001b[1m174/174\u001b[0m \u001b[32m━━━━━━━━━━━━━━━━━━━━\u001b[0m\u001b[37m\u001b[0m \u001b[1m273s\u001b[0m 2s/step - accuracy: 0.9974 - loss: 0.0104 - val_accuracy: 0.7329 - val_loss: 1.6901 - learning_rate: 6.2500e-05\n",
      "Epoch 27/30\n",
      "\u001b[1m174/174\u001b[0m \u001b[32m━━━━━━━━━━━━━━━━━━━━\u001b[0m\u001b[37m\u001b[0m \u001b[1m272s\u001b[0m 2s/step - accuracy: 0.9978 - loss: 0.0063 - val_accuracy: 0.7374 - val_loss: 1.6087 - learning_rate: 6.2500e-05\n",
      "Epoch 28/30\n",
      "\u001b[1m174/174\u001b[0m \u001b[32m━━━━━━━━━━━━━━━━━━━━\u001b[0m\u001b[37m\u001b[0m \u001b[1m272s\u001b[0m 2s/step - accuracy: 0.9972 - loss: 0.0092 - val_accuracy: 0.7493 - val_loss: 1.5823 - learning_rate: 6.2500e-05\n",
      "Epoch 29/30\n",
      "\u001b[1m174/174\u001b[0m \u001b[32m━━━━━━━━━━━━━━━━━━━━\u001b[0m\u001b[37m\u001b[0m \u001b[1m268s\u001b[0m 1s/step - accuracy: 0.9977 - loss: 0.0078 - val_accuracy: 0.7381 - val_loss: 1.6487 - learning_rate: 6.2500e-05\n",
      "Epoch 30/30\n",
      "\u001b[1m174/174\u001b[0m \u001b[32m━━━━━━━━━━━━━━━━━━━━\u001b[0m\u001b[37m\u001b[0m \u001b[1m269s\u001b[0m 2s/step - accuracy: 0.9985 - loss: 0.0053 - val_accuracy: 0.7463 - val_loss: 1.5930 - learning_rate: 6.2500e-05\n"
     ]
    }
   ],
   "source": [
    "history = model.fit(train_data,\n",
    "                    validation_data=val_data,\n",
    "                    epochs=30,  # Train for 30 epochs\n",
    "                    callbacks=[lr_scheduler],\n",
    "                    verbose=1)"
   ]
  },
  {
   "cell_type": "code",
   "execution_count": 26,
   "metadata": {
    "execution": {
     "iopub.execute_input": "2025-02-25T03:45:13.848016Z",
     "iopub.status.busy": "2025-02-25T03:45:13.847728Z",
     "iopub.status.idle": "2025-02-25T03:45:13.852816Z",
     "shell.execute_reply": "2025-02-25T03:45:13.851873Z",
     "shell.execute_reply.started": "2025-02-25T03:45:13.847994Z"
    },
    "id": "7eKgDi-b5UlS"
   },
   "outputs": [
    {
     "name": "stdout",
     "output_type": "stream",
     "text": [
      "Num GPUs Available: 1\n"
     ]
    }
   ],
   "source": [
    "print(\"Num GPUs Available:\", len(tf.config.experimental.list_physical_devices('GPU')))"
   ]
  },
  {
   "cell_type": "code",
   "execution_count": 27,
   "metadata": {
    "execution": {
     "iopub.execute_input": "2025-02-25T03:45:24.357635Z",
     "iopub.status.busy": "2025-02-25T03:45:24.357295Z",
     "iopub.status.idle": "2025-02-25T03:45:24.364743Z",
     "shell.execute_reply": "2025-02-25T03:45:24.363853Z",
     "shell.execute_reply.started": "2025-02-25T03:45:24.357606Z"
    }
   },
   "outputs": [
    {
     "name": "stdout",
     "output_type": "stream",
     "text": [
      "/device:GPU:0\n"
     ]
    }
   ],
   "source": [
    "print(tf.test.gpu_device_name()) "
   ]
  },
  {
   "cell_type": "code",
   "execution_count": 29,
   "metadata": {
    "execution": {
     "iopub.execute_input": "2025-02-25T03:46:13.061284Z",
     "iopub.status.busy": "2025-02-25T03:46:13.060969Z",
     "iopub.status.idle": "2025-02-25T03:46:13.328489Z",
     "shell.execute_reply": "2025-02-25T03:46:13.327399Z",
     "shell.execute_reply.started": "2025-02-25T03:46:13.061258Z"
    }
   },
   "outputs": [
    {
     "name": "stdout",
     "output_type": "stream",
     "text": [
      "Tue Feb 25 03:46:13 2025       \n",
      "+-----------------------------------------------------------------------------------------+\n",
      "| NVIDIA-SMI 560.35.03              Driver Version: 560.35.03      CUDA Version: 12.6     |\n",
      "|-----------------------------------------+------------------------+----------------------+\n",
      "| GPU  Name                 Persistence-M | Bus-Id          Disp.A | Volatile Uncorr. ECC |\n",
      "| Fan  Temp   Perf          Pwr:Usage/Cap |           Memory-Usage | GPU-Util  Compute M. |\n",
      "|                                         |                        |               MIG M. |\n",
      "|=========================================+========================+======================|\n",
      "|   0  Tesla P100-PCIE-16GB           Off |   00000000:00:04.0 Off |                    0 |\n",
      "| N/A   36C    P0             32W /  250W |    2339MiB /  16384MiB |      0%      Default |\n",
      "|                                         |                        |                  N/A |\n",
      "+-----------------------------------------+------------------------+----------------------+\n",
      "                                                                                         \n",
      "+-----------------------------------------------------------------------------------------+\n",
      "| Processes:                                                                              |\n",
      "|  GPU   GI   CI        PID   Type   Process name                              GPU Memory |\n",
      "|        ID   ID                                                               Usage      |\n",
      "|=========================================================================================|\n",
      "+-----------------------------------------------------------------------------------------+\n"
     ]
    }
   ],
   "source": [
    "!nvidia-smi"
   ]
  },
  {
   "cell_type": "code",
   "execution_count": 31,
   "metadata": {
    "execution": {
     "iopub.execute_input": "2025-02-25T06:02:41.199472Z",
     "iopub.status.busy": "2025-02-25T06:02:41.199135Z",
     "iopub.status.idle": "2025-02-25T06:02:41.558333Z",
     "shell.execute_reply": "2025-02-25T06:02:41.557673Z",
     "shell.execute_reply.started": "2025-02-25T06:02:41.199446Z"
    }
   },
   "outputs": [],
   "source": [
    "model.save(\"final_final.h5\")"
   ]
  },
  {
   "cell_type": "code",
   "execution_count": 32,
   "metadata": {
    "execution": {
     "iopub.execute_input": "2025-02-25T06:03:41.825276Z",
     "iopub.status.busy": "2025-02-25T06:03:41.824933Z",
     "iopub.status.idle": "2025-02-25T06:03:42.239734Z",
     "shell.execute_reply": "2025-02-25T06:03:42.239009Z",
     "shell.execute_reply.started": "2025-02-25T06:03:41.825243Z"
    }
   },
   "outputs": [],
   "source": [
    "model.save(\"final_final.h5\")"
   ]
  },
  {
   "cell_type": "code",
   "execution_count": null,
   "metadata": {},
   "outputs": [],
   "source": [
    "model = tf.keras.models.load_model(\"/kaggle/working/final_final.h5\")\n",
    "converter = tf.lite.TFLiteConverter.from_keras_model(model)\n",
    "tflite_model = converter.convert()\n",
    "\n",
    "\n",
    "with open(\"fina_final.tflite\", \"wb\") as f:\n",
    "    f.write(tflite_model)\n",
    "\n",
    "print(\"TFLite model saved successfully!\")"
   ]
  },
  {
   "cell_type": "code",
   "execution_count": null,
   "metadata": {
    "execution": {
     "iopub.execute_input": "2025-02-25T06:08:53.870048Z",
     "iopub.status.busy": "2025-02-25T06:08:53.869734Z",
     "iopub.status.idle": "2025-02-25T06:08:54.282280Z",
     "shell.execute_reply": "2025-02-25T06:08:54.281422Z",
     "shell.execute_reply.started": "2025-02-25T06:08:53.870025Z"
    }
   },
   "outputs": [
    {
     "data": {
      "image/png": "[encoded data removed]",
      "text/plain": [
       "<Figure size 1200x500 with 2 Axes>"
      ]
     },
     "metadata": {},
     "output_type": "display_data"
    }
   ],
   "source": [
    "import matplotlib.pyplot as plt\n",
    "\n",
    "epochs = range(1, len(history.history['loss']) + 1)\n",
    "\n",
    "# Plot Loss\n",
    "plt.figure(figsize=(12, 5))\n",
    "\n",
    "plt.subplot(1, 2, 1)\n",
    "plt.plot(epochs, history.history['loss'], marker='o', linestyle='-', color='b', label='Training Loss')\n",
    "if 'val_loss' in history.history:\n",
    "    plt.plot(epochs, history.history['val_loss'], marker='s', linestyle='--', color='r', label='Validation Loss')\n",
    "plt.xlabel('Epochs')\n",
    "plt.ylabel('Loss')\n",
    "plt.title('Loss over Epochs')\n",
    "plt.legend()\n",
    "plt.grid(True)\n",
    "\n",
    "# Plot Accuracy\n",
    "plt.subplot(1, 2, 2)\n",
    "plt.plot(epochs, history.history['accuracy'], marker='o', linestyle='-', color='g', label='Training Accuracy')\n",
    "if 'val_accuracy' in history.history:\n",
    "    plt.plot(epochs, history.history['val_accuracy'], marker='s', linestyle='--', color='orange', label='Validation Accuracy')\n",
    "plt.xlabel('Epochs')\n",
    "plt.ylabel('Accuracy')\n",
    "plt.title('Accuracy over Epochs')\n",
    "plt.legend()\n",
    "plt.grid(True)\n",
    "\n",
    "\n",
    "plt.tight_layout()\n",
    "plt.show()"
   ]
  },
  {
   "cell_type": "code",
   "execution_count": null,
   "metadata": {
    "execution": {
     "iopub.execute_input": "2025-02-25T07:47:54.216408Z",
     "iopub.status.busy": "2025-02-25T07:47:54.216208Z",
     "iopub.status.idle": "2025-02-25T07:47:54.334914Z",
     "shell.execute_reply": "2025-02-25T07:47:54.332480Z",
     "shell.execute_reply.started": "2025-02-25T07:47:54.216388Z"
    }
   },
   "outputs": [
    {
     "name": "stdout",
     "output_type": "stream",
     "text": [
      "Extracted Class Names: ['Aloevera', 'Amla', 'Amruthaballi', 'Arali', 'Astma_weed', 'Badipala', 'Balloon_Vine', 'Bamboo', 'Beans', 'Betel', 'Bhrami', 'Bringaraja', 'Caricature', 'Castor', 'Catharanthus', 'Chakte', 'Chilly', 'Citron lime (herelikai)', 'Coffee', 'Common rue(naagdalli)', 'Coriender', 'Curry', 'Doddpathre', 'Drumstick', 'Ekka', 'Eucalyptus', 'Ganigale', 'Ganike', 'Gasagase', 'Ginger', 'Globe Amarnath', 'Guava', 'Henna', 'Hibiscus', 'Honge', 'Insulin', 'Jackfruit', 'Jasmine', 'Kambajala', 'Kasambruga', 'Kohlrabi', 'Lantana', 'Lemon', 'Lemongrass', 'Malabar_Nut', 'Malabar_Spinach', 'Mango', 'Marigold', 'Mint', 'Neem', 'Nelavembu', 'Nerale', 'Nooni', 'Onion', 'Padri', 'Palak(Spinach)', 'Papaya', 'Parijatha', 'Pea', 'Pepper', 'Pomoegranate', 'Pumpkin', 'Raddish', 'Rose', 'Sampige', 'Sapota', 'Seethaashoka', 'Seethapala', 'Spinach1', 'Tamarind', 'Taro', 'Tecoma', 'Thumbe', 'Tomato', 'Tulsi', 'Turmeric', 'ashoka', 'camphor', 'kamakasturi', 'kepala']\n",
      "Class names saved to class_labels.txt\n"
     ]
    }
   ],
   "source": [
    "import os\n",
    "\n",
    "dataset_path = \"/kaggle/input/indian-medicinal-leaves-dataset/Indian Medicinal Leaves Image Datasets/Medicinal Leaf dataset\"  # Update this\n",
    "\n",
    "\n",
    "class_names = sorted([d for d in os.listdir(dataset_path) if os.path.isdir(os.path.join(dataset_path, d))])\n",
    "\n",
    "\n",
    "print(\"Extracted Class Names:\", class_names)\n",
    "\n",
    "with open(\"class_labels.txt\", \"w\") as f:\n",
    "    for class_name in class_names:\n",
    "        f.write(class_name + \"\\n\")\n",
    "\n",
    "print(\"Class names saved to class_labels.txt\")\n"
   ]
  },
  {
   "cell_type": "code",
   "execution_count": 2,
   "metadata": {},
   "outputs": [
    {
     "ename": "ValueError",
     "evalue": "Unrecognized keyword arguments: ['batch_shape']",
     "output_type": "error",
     "traceback": [
      "\u001b[1;31m---------------------------------------------------------------------------\u001b[0m",
      "\u001b[1;31mValueError\u001b[0m                                Traceback (most recent call last)",
      "Cell \u001b[1;32mIn[2], line 6\u001b[0m\n\u001b[0;32m      3\u001b[0m \u001b[38;5;28;01mfrom\u001b[39;00m \u001b[38;5;21;01mtensorflow\u001b[39;00m\u001b[38;5;21;01m.\u001b[39;00m\u001b[38;5;21;01mkeras\u001b[39;00m\u001b[38;5;21;01m.\u001b[39;00m\u001b[38;5;21;01mutils\u001b[39;00m \u001b[38;5;28;01mimport\u001b[39;00m plot_model\n\u001b[0;32m      5\u001b[0m \u001b[38;5;66;03m# Load your model\u001b[39;00m\n\u001b[1;32m----> 6\u001b[0m model \u001b[38;5;241m=\u001b[39m \u001b[43mload_model\u001b[49m\u001b[43m(\u001b[49m\u001b[38;5;124;43m'\u001b[39;49m\u001b[38;5;124;43mfinal_final.h5\u001b[39;49m\u001b[38;5;124;43m'\u001b[39;49m\u001b[43m)\u001b[49m\n\u001b[0;32m      8\u001b[0m \u001b[38;5;66;03m# Print the summary of the model\u001b[39;00m\n\u001b[0;32m      9\u001b[0m model\u001b[38;5;241m.\u001b[39msummary()\n",
      "File \u001b[1;32m~\\AppData\\Local\\Programs\\Python\\Python310\\lib\\site-packages\\keras\\utils\\traceback_utils.py:70\u001b[0m, in \u001b[0;36mfilter_traceback.<locals>.error_handler\u001b[1;34m(*args, **kwargs)\u001b[0m\n\u001b[0;32m     67\u001b[0m     filtered_tb \u001b[38;5;241m=\u001b[39m _process_traceback_frames(e\u001b[38;5;241m.\u001b[39m__traceback__)\n\u001b[0;32m     68\u001b[0m     \u001b[38;5;66;03m# To get the full stack trace, call:\u001b[39;00m\n\u001b[0;32m     69\u001b[0m     \u001b[38;5;66;03m# `tf.debugging.disable_traceback_filtering()`\u001b[39;00m\n\u001b[1;32m---> 70\u001b[0m     \u001b[38;5;28;01mraise\u001b[39;00m e\u001b[38;5;241m.\u001b[39mwith_traceback(filtered_tb) \u001b[38;5;28;01mfrom\u001b[39;00m \u001b[38;5;28;01mNone\u001b[39;00m\n\u001b[0;32m     71\u001b[0m \u001b[38;5;28;01mfinally\u001b[39;00m:\n\u001b[0;32m     72\u001b[0m     \u001b[38;5;28;01mdel\u001b[39;00m filtered_tb\n",
      "File \u001b[1;32m~\\AppData\\Local\\Programs\\Python\\Python310\\lib\\site-packages\\keras\\engine\\input_layer.py:152\u001b[0m, in \u001b[0;36mInputLayer.__init__\u001b[1;34m(self, input_shape, batch_size, dtype, input_tensor, sparse, name, ragged, type_spec, **kwargs)\u001b[0m\n\u001b[0;32m    150\u001b[0m         input_shape \u001b[38;5;241m=\u001b[39m batch_input_shape[\u001b[38;5;241m1\u001b[39m:]\n\u001b[0;32m    151\u001b[0m \u001b[38;5;28;01mif\u001b[39;00m kwargs:\n\u001b[1;32m--> 152\u001b[0m     \u001b[38;5;28;01mraise\u001b[39;00m \u001b[38;5;167;01mValueError\u001b[39;00m(\n\u001b[0;32m    153\u001b[0m         \u001b[38;5;124mf\u001b[39m\u001b[38;5;124m\"\u001b[39m\u001b[38;5;124mUnrecognized keyword arguments: \u001b[39m\u001b[38;5;132;01m{\u001b[39;00m\u001b[38;5;28mlist\u001b[39m(kwargs\u001b[38;5;241m.\u001b[39mkeys())\u001b[38;5;132;01m}\u001b[39;00m\u001b[38;5;124m\"\u001b[39m\n\u001b[0;32m    154\u001b[0m     )\n\u001b[0;32m    156\u001b[0m \u001b[38;5;28;01mif\u001b[39;00m sparse \u001b[38;5;129;01mand\u001b[39;00m ragged:\n\u001b[0;32m    157\u001b[0m     \u001b[38;5;28;01mraise\u001b[39;00m \u001b[38;5;167;01mValueError\u001b[39;00m(\n\u001b[0;32m    158\u001b[0m         \u001b[38;5;124m\"\u001b[39m\u001b[38;5;124mCannot set both sparse and ragged to True in a Keras input.\u001b[39m\u001b[38;5;124m\"\u001b[39m\n\u001b[0;32m    159\u001b[0m     )\n",
      "\u001b[1;31mValueError\u001b[0m: Unrecognized keyword arguments: ['batch_shape']"
     ]
    }
   ],
   "source": [
    "import tensorflow as tf\n",
    "from tensorflow.keras.models import load_model\n",
    "from tensorflow.keras.utils import plot_model\n",
    "\n",
    "# Load your model\n",
    "model = load_model('final_final.h5')\n",
    "\n",
    "# Print the summary of the model\n",
    "model.summary()"
   ]
  },
  {
   "cell_type": "code",
   "execution_count": null,
   "metadata": {},
   "outputs": [],
   "source": []
  }
 ],
 "metadata": {
  "accelerator": "GPU",
  "colab": {
   "gpuType": "T4",
   "provenance": []
  },
  "kaggle": {
   "accelerator": "gpu",
   "dataSources": [
    {
     "datasetId": 3701557,
     "sourceId": 6417582,
     "sourceType": "datasetVersion"
    }
   ],
   "dockerImageVersionId": 30919,
   "isGpuEnabled": true,
   "isInternetEnabled": true,
   "language": "python",
   "sourceType": "notebook"
  },
  "kernelspec": {
   "display_name": "Python 3 (ipykernel)",
   "language": "python",
   "name": "python3"
  },
  "language_info": {
   "codemirror_mode": {
    "name": "ipython",
    "version": 3
   },
   "file_extension": ".py",
   "mimetype": "text/x-python",
   "name": "python",
   "nbconvert_exporter": "python",
   "pygments_lexer": "ipython3",
   "version": "3.10.7"
  }
 },
 "nbformat": 4,
 "nbformat_minor": 4
}
